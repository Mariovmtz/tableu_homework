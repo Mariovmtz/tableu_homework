{
 "cells": [
  {
   "cell_type": "code",
   "execution_count": 1,
   "metadata": {},
   "outputs": [],
   "source": [
    "import os\n",
    "import csv"
   ]
  },
  {
   "cell_type": "code",
   "execution_count": 2,
   "metadata": {},
   "outputs": [
    {
     "name": "stdout",
     "output_type": "stream",
     "text": [
      "['2013-07 - Citi Bike trip data.csv', '2013-08 - Citi Bike trip data.csv', '2013-09 - Citi Bike trip data.csv', '2013-10 - Citi Bike trip data.csv', '2013-11 - Citi Bike trip data.csv', '2013-12 - Citi Bike trip data.csv', '201306-citibike-tripdata.csv', '2014-01 - Citi Bike trip data.csv', '2014-02 - Citi Bike trip data.csv', '2014-03 - Citi Bike trip data.csv', '2014-04 - Citi Bike trip data.csv', '2014-05 - Citi Bike trip data.csv', '2014-06 - Citi Bike trip data.csv', '2014-07 - Citi Bike trip data.csv', '2014-08 - Citi Bike trip data.csv', '201409-citibike-tripdata.csv', '201410-citibike-tripdata.csv', '201411-citibike-tripdata.csv', '201412-citibike-tripdata.csv', '201501-citibike-tripdata.csv', '201502-citibike-tripdata.csv', '201503-citibike-tripdata.csv', '201504-citibike-tripdata.csv', '201505-citibike-tripdata.csv', '201506-citibike-tripdata.csv', '201507-citibike-tripdata.csv', '201508-citibike-tripdata.csv', '201509-citibike-tripdata.csv', '201510-citibike-tripdata.csv', '201511-citibike-tripdata.csv', '201512-citibike-tripdata.csv', '201601-citibike-tripdata.csv', '201602-citibike-tripdata.csv', '201603-citibike-tripdata.csv', '201604-citibike-tripdata.csv', '201605-citibike-tripdata.csv', '201606-citibike-tripdata.csv', '201607-citibike-tripdata.csv', '201608-citibike-tripdata.csv', '201609-citibike-tripdata.csv', '201610-citibike-tripdata.csv', '201611-citibike-tripdata.csv', '201612-citibike-tripdata.csv', '201701-citibike-tripdata.csv', '201702-citibike-tripdata.csv', '201703-citibike-tripdata.csv', '201704-citibike-tripdata.csv', '201705-citibike-tripdata.csv', '201706-citibike-tripdata.csv', '201707-citibike-tripdata.csv', '201708-citibike-tripdata.csv', '201709-citibike-tripdata.csv', '201710-citibike-tripdata.csv', '201711-citibike-tripdata.csv', '201712-citibike-tripdata.csv', '201801-citibike-tripdata.csv', '201802-citibike-tripdata.csv', '201803-citibike-tripdata.csv', '201804-citibike-tripdata.csv', '201805-citibike-tripdata.csv', '201806-citibike-tripdata.csv', '201807-citibike-tripdata.csv', '201808-citibike-tripdata.csv', '201809-citibike-tripdata.csv', '201810-citibike-tripdata.csv', '201811-citibike-tripdata.csv', '201812-citibike-tripdata.csv', '201901-citibike-tripdata.csv', '201902-citibike-tripdata.csv', '201903-citibike-tripdata.csv', '201904-citibike-tripdata.csv', '201905-citibike-tripdata.csv', '201906-citibike-tripdata.csv', '201907-citibike-tripdata.csv', '201908-citibike-tripdata.csv', '201909-citibike-tripdata.csv', '201910-citibike-tripdata.csv', '201911-citibike-tripdata.csv', '201912-citibike-tripdata.csv', '202001-citibike-tripdata.csv', '202002-citibike-tripdata.csv', '202003-citibike-tripdata.csv', '202004-citibike-tripdata.csv', '202005-citibike-tripdata.csv', '202006-citibike-tripdata.csv', '202007-citibike-tripdata.csv']\n"
     ]
    }
   ],
   "source": [
    "path = \"data\"\n",
    "\n",
    "files = [file for file in os.listdir(path) if os.path.isfile(os.path.join(path, file))]\n",
    "\n",
    "print(files)"
   ]
  },
  {
   "cell_type": "code",
   "execution_count": 9,
   "metadata": {},
   "outputs": [],
   "source": [
    "def writeHeader(paramList):\n",
    "    with open('header_data.csv', mode='a+', newline=\"\") as file:\n",
    "        writer = csv.writer(file, delimiter=',', quotechar='\"', quoting=csv.QUOTE_MINIMAL)\n",
    "        writer.writerows(paramList) \n",
    "    \n",
    "def writeRow(paramList):\n",
    "    with open('consolidated_data.csv', mode='a+', newline=\"\") as file:\n",
    "        writer = csv.writer(file, delimiter=',', quotechar='\"', quoting=csv.QUOTE_MINIMAL)\n",
    "        writer.writerows(paramList)   \n",
    "    "
   ]
  },
  {
   "cell_type": "code",
   "execution_count": 12,
   "metadata": {},
   "outputs": [],
   "source": [
    "for file in files:\n",
    "    \n",
    "    with open(os.path.join(path, file)) as csv_file:\n",
    "        column_data = []\n",
    "        row_data = []\n",
    "        csv_reader =  csv.reader(csv_file, delimiter=',')\n",
    "        line_count = 0\n",
    "        \n",
    "        for row in csv_reader:\n",
    "            \n",
    "            row.append(file)\n",
    "            \n",
    "            if line_count == 0:\n",
    "                column_data.append(row)\n",
    "            else:\n",
    "                row_data.append(row)\n",
    "            line_count += 1\n",
    "            \n",
    "        writeHeader(column_data)\n",
    "        writeRow(row_data)\n",
    "\n",
    "     \n",
    "        "
   ]
  },
  {
   "cell_type": "code",
   "execution_count": 1,
   "metadata": {},
   "outputs": [],
   "source": [
    "import pandas as pd"
   ]
  },
  {
   "cell_type": "code",
   "execution_count": 2,
   "metadata": {},
   "outputs": [],
   "source": [
    "header_df = pd.read_csv('header_data.csv')"
   ]
  },
  {
   "cell_type": "code",
   "execution_count": 3,
   "metadata": {},
   "outputs": [
    {
     "data": {
      "text/plain": [
       "<bound method NDFrame.head of     tripduration  starttime  stoptime  start station id  start station name  \\\n",
       "0   tripduration  starttime  stoptime  start station id  start station name   \n",
       "1   tripduration  starttime  stoptime  start station id  start station name   \n",
       "2   tripduration  starttime  stoptime  start station id  start station name   \n",
       "3   tripduration  starttime  stoptime  start station id  start station name   \n",
       "4   tripduration  starttime  stoptime  start station id  start station name   \n",
       "..           ...        ...       ...               ...                 ...   \n",
       "80  tripduration  starttime  stoptime  start station id  start station name   \n",
       "81  tripduration  starttime  stoptime  start station id  start station name   \n",
       "82  tripduration  starttime  stoptime  start station id  start station name   \n",
       "83  tripduration  starttime  stoptime  start station id  start station name   \n",
       "84  tripduration  starttime  stoptime  start station id  start station name   \n",
       "\n",
       "    start station latitude  start station longitude  end station id  \\\n",
       "0   start station latitude  start station longitude  end station id   \n",
       "1   start station latitude  start station longitude  end station id   \n",
       "2   start station latitude  start station longitude  end station id   \n",
       "3   start station latitude  start station longitude  end station id   \n",
       "4   start station latitude  start station longitude  end station id   \n",
       "..                     ...                      ...             ...   \n",
       "80  start station latitude  start station longitude  end station id   \n",
       "81  start station latitude  start station longitude  end station id   \n",
       "82  start station latitude  start station longitude  end station id   \n",
       "83  start station latitude  start station longitude  end station id   \n",
       "84  start station latitude  start station longitude  end station id   \n",
       "\n",
       "    end station name  end station latitude  end station longitude  bikeid  \\\n",
       "0   end station name  end station latitude  end station longitude  bikeid   \n",
       "1   end station name  end station latitude  end station longitude  bikeid   \n",
       "2   end station name  end station latitude  end station longitude  bikeid   \n",
       "3   end station name  end station latitude  end station longitude  bikeid   \n",
       "4   end station name  end station latitude  end station longitude  bikeid   \n",
       "..               ...                   ...                    ...     ...   \n",
       "80  end station name  end station latitude  end station longitude  bikeid   \n",
       "81  end station name  end station latitude  end station longitude  bikeid   \n",
       "82  end station name  end station latitude  end station longitude  bikeid   \n",
       "83  end station name  end station latitude  end station longitude  bikeid   \n",
       "84  end station name  end station latitude  end station longitude  bikeid   \n",
       "\n",
       "    usertype  birth year  gender  2013-07 - Citi Bike trip data.csv  \n",
       "0   usertype  birth year  gender  2013-08 - Citi Bike trip data.csv  \n",
       "1   usertype  birth year  gender  2013-09 - Citi Bike trip data.csv  \n",
       "2   usertype  birth year  gender  2013-10 - Citi Bike trip data.csv  \n",
       "3   usertype  birth year  gender  2013-11 - Citi Bike trip data.csv  \n",
       "4   usertype  birth year  gender  2013-12 - Citi Bike trip data.csv  \n",
       "..       ...         ...     ...                                ...  \n",
       "80  usertype  birth year  gender       202003-citibike-tripdata.csv  \n",
       "81  usertype  birth year  gender       202004-citibike-tripdata.csv  \n",
       "82  usertype  birth year  gender       202005-citibike-tripdata.csv  \n",
       "83  usertype  birth year  gender       202006-citibike-tripdata.csv  \n",
       "84  usertype  birth year  gender       202007-citibike-tripdata.csv  \n",
       "\n",
       "[85 rows x 16 columns]>"
      ]
     },
     "execution_count": 3,
     "metadata": {},
     "output_type": "execute_result"
    }
   ],
   "source": [
    "header_df.head"
   ]
  },
  {
   "cell_type": "code",
   "execution_count": null,
   "metadata": {},
   "outputs": [],
   "source": []
  }
 ],
 "metadata": {
  "kernelspec": {
   "display_name": "Python 3",
   "language": "python",
   "name": "python3"
  },
  "language_info": {
   "codemirror_mode": {
    "name": "ipython",
    "version": 3
   },
   "file_extension": ".py",
   "mimetype": "text/x-python",
   "name": "python",
   "nbconvert_exporter": "python",
   "pygments_lexer": "ipython3",
   "version": "3.7.6"
  }
 },
 "nbformat": 4,
 "nbformat_minor": 4
}
